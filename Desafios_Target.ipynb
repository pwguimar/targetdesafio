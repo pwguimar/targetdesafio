{
  "nbformat": 4,
  "nbformat_minor": 0,
  "metadata": {
    "colab": {
      "provenance": []
    },
    "kernelspec": {
      "name": "python3",
      "display_name": "Python 3"
    },
    "language_info": {
      "name": "python"
    }
  },
  "cells": [
    {
      "cell_type": "markdown",
      "source": [
        "01) Observe o trecho de código abaixo:\n",
        "int INDICE = 13, SOMA = 0, K = 0; Enquanto K < INDICE faça { K = K + 1; SOMA = SOMA + K; }\n",
        "Imprimir(SOMA);\n",
        "Ao final do processamento, qual será o valor da variável SOMA?"
      ],
      "metadata": {
        "id": "j4rTndlOfDBH"
      }
    },
    {
      "cell_type": "code",
      "execution_count": 14,
      "metadata": {
        "colab": {
          "base_uri": "https://localhost:8080/"
        },
        "id": "kRp_LgY4eyYo",
        "outputId": "f9aebbc5-7840-4782-c5b8-08f74226ff4f"
      },
      "outputs": [
        {
          "output_type": "stream",
          "name": "stdout",
          "text": [
            "91\n"
          ]
        }
      ],
      "source": [
        "# Inicialização das variáveis\n",
        "INDICE = 13\n",
        "SOMA = 0\n",
        "K = 0\n",
        "\n",
        "# Loop para calcular a soma\n",
        "while K < INDICE:\n",
        "  K += 1\n",
        "  SOMA += K\n",
        "\n",
        "# Exibe o resultado\n",
        "print(SOMA)"
      ]
    },
    {
      "cell_type": "markdown",
      "source": [
        "02) Dado a sequência de Fibonacci, onde se inicia por 0 e 1 e o próximo valor sempre será a soma dos 2 valores anteriores (exemplo: 0, 1, 1, 2, 3, 5, 8, 13, 21, 34...), escreva um programa na linguagem que desejar onde, informado um número, ele calcule a sequência de Fibonacci e retorne uma mensagem avisando se o número informado pertence ou não a sequência."
      ],
      "metadata": {
        "id": "VI5YFdK3fSM-"
      }
    },
    {
      "cell_type": "code",
      "source": [
        "def fibonacci(n):\n",
        "  a,b=0,1 # Inicializa os dois primeiros números da sequência de Fibonacci\n",
        "  sequence = []  # Lista para armazenar a sequência de Fibonacci\n",
        "  while a <= n: # Continua enquanto 'a' for menor ou igual a 'n'\n",
        "    sequence.append(a)  # Adiciona 'a' à sequência\n",
        "    if a == n: # Verifica se 'a' é igual a 'n'\n",
        "      return True,sequence # Retorna True se 'n' for um número de Fibonacci\n",
        "    a, b = b, a + b # Atualiza 'a' e 'b' para os próximos números da sequência\n",
        "  return False,sequence # Retorna False se 'n' não for encontrado na sequência\n",
        "\n",
        "numero = int(input(\"Digite um número: \")) # Solicita um número ao usuário\n",
        "is_fibonacci, sequence = fibonacci(numero)  # Chama a função e captura o resultado e a sequência\n",
        "print(f\"Sequência de Fibonacci até {numero} : {sequence}\")  # Imprime a sequência de Fibonacci\n",
        "\n",
        "if is_fibonacci:\n",
        "  print(f\"O número {numero} pertence à sequência de Fibonacci.\") # Mensagem se for de Fibonacci\n",
        "else:\n",
        "  print(f\"O número {numero} não pertence à sequência de Fibonacci.\")\n"
      ],
      "metadata": {
        "colab": {
          "base_uri": "https://localhost:8080/"
        },
        "id": "SC3dO06MfO5Q",
        "outputId": "8cdaf8fe-135a-4c01-9dc0-b72a7969a995"
      },
      "execution_count": 13,
      "outputs": [
        {
          "output_type": "stream",
          "name": "stdout",
          "text": [
            "Digite um número: 34\n",
            "Sequência de Fibonacci até 34 : [0, 1, 1, 2, 3, 5, 8, 13, 21, 34]\n",
            "O número 34 pertence à sequência de Fibonacci.\n"
          ]
        }
      ]
    },
    {
      "cell_type": "markdown",
      "source": [],
      "metadata": {
        "id": "3d5lPmFVlure"
      }
    },
    {
      "cell_type": "markdown",
      "source": [
        "03) Dado um vetor que guarda o valor de faturamento diário de uma distribuidora, faça um programa, na linguagem que desejar, que calcule e retorne:\n",
        "• O menor valor de faturamento ocorrido em um dia do mês;\n",
        "• O maior valor de faturamento ocorrido em um dia do mês;\n",
        "• Número de dias no mês em que o valor de faturamento diário foi superior à média mensal.\n",
        "\n",
        "IMPORTANTE:\n",
        "a) Usar o json ou xml disponível como fonte dos dados do faturamento mensal;\n",
        "b) Podem existir dias sem faturamento, como nos finais de semana e feriados. Estes dias devem ser ignorados no cálculo da média;"
      ],
      "metadata": {
        "id": "V8BvUFcy0IUP"
      }
    },
    {
      "cell_type": "code",
      "source": [
        "from google.colab import files\n",
        "import json\n",
        "uploaded = files.upload()\n",
        "\n",
        "def calcular_faturamento(dados):\n",
        "  dias_com_faturamento = [dia['valor'] for dia in dados if dia['valor'] > 0] # Filtrar os dias com faturamento\n",
        "# Filtrar os dias com faturamento\n",
        "\n",
        "# Calcular o menor e o maior valor de faturamento\n",
        "  menor_faturamento = min(dias_com_faturamento)\n",
        "  maior_faturamento = max(dias_com_faturamento)\n",
        "\n",
        "# Calcular a média mensal\n",
        "  media_mensal = sum(dias_com_faturamento) / len(dias_com_faturamento)\n",
        "\n",
        "# Contar os dias com faturamento acima da média\n",
        "  dias_acima_da_media = sum(1 for valor in dias_com_faturamento if valor > media_mensal)\n",
        "\n",
        "  return menor_faturamento, maior_faturamento, dias_acima_da_media\n",
        "\n",
        "\n",
        "# Supondo que o nome do arquivo seja 'dados.json'\n",
        "for filename in uploaded.keys():\n",
        "  content = uploaded[filename].decode('utf-8')\n",
        "  dados = json.loads(content)\n",
        "\n",
        "# Calcular os resultados\n",
        "  menor, maior, dias_acima = calcular_faturamento(dados)\n",
        "\n",
        "# Exibir os resultados\n",
        "  print(f\"Menor faturamento: {menor}\")\n",
        "  print(f\"Maior faturamento: {maior}\")\n",
        "  print(f\"Dias acima da média: {dias_acima}\")\n",
        "\n",
        "\n"
      ],
      "metadata": {
        "colab": {
          "base_uri": "https://localhost:8080/",
          "height": 125
        },
        "id": "w8dSjT3FsxNc",
        "outputId": "97855e03-fa29-4f51-83a8-df8b6039fa62"
      },
      "execution_count": 40,
      "outputs": [
        {
          "output_type": "display_data",
          "data": {
            "text/plain": [
              "<IPython.core.display.HTML object>"
            ],
            "text/html": [
              "\n",
              "     <input type=\"file\" id=\"files-fff81adf-7c9d-4f38-9dd7-c67fd2fd16a3\" name=\"files[]\" multiple disabled\n",
              "        style=\"border:none\" />\n",
              "     <output id=\"result-fff81adf-7c9d-4f38-9dd7-c67fd2fd16a3\">\n",
              "      Upload widget is only available when the cell has been executed in the\n",
              "      current browser session. Please rerun this cell to enable.\n",
              "      </output>\n",
              "      <script>// Copyright 2017 Google LLC\n",
              "//\n",
              "// Licensed under the Apache License, Version 2.0 (the \"License\");\n",
              "// you may not use this file except in compliance with the License.\n",
              "// You may obtain a copy of the License at\n",
              "//\n",
              "//      http://www.apache.org/licenses/LICENSE-2.0\n",
              "//\n",
              "// Unless required by applicable law or agreed to in writing, software\n",
              "// distributed under the License is distributed on an \"AS IS\" BASIS,\n",
              "// WITHOUT WARRANTIES OR CONDITIONS OF ANY KIND, either express or implied.\n",
              "// See the License for the specific language governing permissions and\n",
              "// limitations under the License.\n",
              "\n",
              "/**\n",
              " * @fileoverview Helpers for google.colab Python module.\n",
              " */\n",
              "(function(scope) {\n",
              "function span(text, styleAttributes = {}) {\n",
              "  const element = document.createElement('span');\n",
              "  element.textContent = text;\n",
              "  for (const key of Object.keys(styleAttributes)) {\n",
              "    element.style[key] = styleAttributes[key];\n",
              "  }\n",
              "  return element;\n",
              "}\n",
              "\n",
              "// Max number of bytes which will be uploaded at a time.\n",
              "const MAX_PAYLOAD_SIZE = 100 * 1024;\n",
              "\n",
              "function _uploadFiles(inputId, outputId) {\n",
              "  const steps = uploadFilesStep(inputId, outputId);\n",
              "  const outputElement = document.getElementById(outputId);\n",
              "  // Cache steps on the outputElement to make it available for the next call\n",
              "  // to uploadFilesContinue from Python.\n",
              "  outputElement.steps = steps;\n",
              "\n",
              "  return _uploadFilesContinue(outputId);\n",
              "}\n",
              "\n",
              "// This is roughly an async generator (not supported in the browser yet),\n",
              "// where there are multiple asynchronous steps and the Python side is going\n",
              "// to poll for completion of each step.\n",
              "// This uses a Promise to block the python side on completion of each step,\n",
              "// then passes the result of the previous step as the input to the next step.\n",
              "function _uploadFilesContinue(outputId) {\n",
              "  const outputElement = document.getElementById(outputId);\n",
              "  const steps = outputElement.steps;\n",
              "\n",
              "  const next = steps.next(outputElement.lastPromiseValue);\n",
              "  return Promise.resolve(next.value.promise).then((value) => {\n",
              "    // Cache the last promise value to make it available to the next\n",
              "    // step of the generator.\n",
              "    outputElement.lastPromiseValue = value;\n",
              "    return next.value.response;\n",
              "  });\n",
              "}\n",
              "\n",
              "/**\n",
              " * Generator function which is called between each async step of the upload\n",
              " * process.\n",
              " * @param {string} inputId Element ID of the input file picker element.\n",
              " * @param {string} outputId Element ID of the output display.\n",
              " * @return {!Iterable<!Object>} Iterable of next steps.\n",
              " */\n",
              "function* uploadFilesStep(inputId, outputId) {\n",
              "  const inputElement = document.getElementById(inputId);\n",
              "  inputElement.disabled = false;\n",
              "\n",
              "  const outputElement = document.getElementById(outputId);\n",
              "  outputElement.innerHTML = '';\n",
              "\n",
              "  const pickedPromise = new Promise((resolve) => {\n",
              "    inputElement.addEventListener('change', (e) => {\n",
              "      resolve(e.target.files);\n",
              "    });\n",
              "  });\n",
              "\n",
              "  const cancel = document.createElement('button');\n",
              "  inputElement.parentElement.appendChild(cancel);\n",
              "  cancel.textContent = 'Cancel upload';\n",
              "  const cancelPromise = new Promise((resolve) => {\n",
              "    cancel.onclick = () => {\n",
              "      resolve(null);\n",
              "    };\n",
              "  });\n",
              "\n",
              "  // Wait for the user to pick the files.\n",
              "  const files = yield {\n",
              "    promise: Promise.race([pickedPromise, cancelPromise]),\n",
              "    response: {\n",
              "      action: 'starting',\n",
              "    }\n",
              "  };\n",
              "\n",
              "  cancel.remove();\n",
              "\n",
              "  // Disable the input element since further picks are not allowed.\n",
              "  inputElement.disabled = true;\n",
              "\n",
              "  if (!files) {\n",
              "    return {\n",
              "      response: {\n",
              "        action: 'complete',\n",
              "      }\n",
              "    };\n",
              "  }\n",
              "\n",
              "  for (const file of files) {\n",
              "    const li = document.createElement('li');\n",
              "    li.append(span(file.name, {fontWeight: 'bold'}));\n",
              "    li.append(span(\n",
              "        `(${file.type || 'n/a'}) - ${file.size} bytes, ` +\n",
              "        `last modified: ${\n",
              "            file.lastModifiedDate ? file.lastModifiedDate.toLocaleDateString() :\n",
              "                                    'n/a'} - `));\n",
              "    const percent = span('0% done');\n",
              "    li.appendChild(percent);\n",
              "\n",
              "    outputElement.appendChild(li);\n",
              "\n",
              "    const fileDataPromise = new Promise((resolve) => {\n",
              "      const reader = new FileReader();\n",
              "      reader.onload = (e) => {\n",
              "        resolve(e.target.result);\n",
              "      };\n",
              "      reader.readAsArrayBuffer(file);\n",
              "    });\n",
              "    // Wait for the data to be ready.\n",
              "    let fileData = yield {\n",
              "      promise: fileDataPromise,\n",
              "      response: {\n",
              "        action: 'continue',\n",
              "      }\n",
              "    };\n",
              "\n",
              "    // Use a chunked sending to avoid message size limits. See b/62115660.\n",
              "    let position = 0;\n",
              "    do {\n",
              "      const length = Math.min(fileData.byteLength - position, MAX_PAYLOAD_SIZE);\n",
              "      const chunk = new Uint8Array(fileData, position, length);\n",
              "      position += length;\n",
              "\n",
              "      const base64 = btoa(String.fromCharCode.apply(null, chunk));\n",
              "      yield {\n",
              "        response: {\n",
              "          action: 'append',\n",
              "          file: file.name,\n",
              "          data: base64,\n",
              "        },\n",
              "      };\n",
              "\n",
              "      let percentDone = fileData.byteLength === 0 ?\n",
              "          100 :\n",
              "          Math.round((position / fileData.byteLength) * 100);\n",
              "      percent.textContent = `${percentDone}% done`;\n",
              "\n",
              "    } while (position < fileData.byteLength);\n",
              "  }\n",
              "\n",
              "  // All done.\n",
              "  yield {\n",
              "    response: {\n",
              "      action: 'complete',\n",
              "    }\n",
              "  };\n",
              "}\n",
              "\n",
              "scope.google = scope.google || {};\n",
              "scope.google.colab = scope.google.colab || {};\n",
              "scope.google.colab._files = {\n",
              "  _uploadFiles,\n",
              "  _uploadFilesContinue,\n",
              "};\n",
              "})(self);\n",
              "</script> "
            ]
          },
          "metadata": {}
        },
        {
          "output_type": "stream",
          "name": "stdout",
          "text": [
            "Saving dados.json to dados (1).json\n",
            "Menor faturamento: 373.7838\n",
            "Maior faturamento: 48924.2448\n",
            "Dias acima da média: 10\n"
          ]
        }
      ]
    },
    {
      "cell_type": "markdown",
      "source": [
        "04) Dado o valor de faturamento mensal de uma distribuidora, detalhado por estado:\n",
        "* SP – R$67.836,43\n",
        "\n",
        "* RJ – R$36.678,66\n",
        "\n",
        "* MG – R$29.229,88\n",
        "\n",
        "* ES – R$27.165,48\n",
        "\n",
        "* Outros – R$19.849,53\n",
        "\n",
        "Escreva um programa na linguagem que desejar onde calcule o percentual de representação que cada estado teve dentro do valor total mensal da distribuidora."
      ],
      "metadata": {
        "id": "x3Xh-p9z476C"
      }
    },
    {
      "cell_type": "code",
      "source": [
        "# Dados de faturamento por estado\n",
        "faturamento_por_estado = {\n",
        "'SP': 67836.43,\n",
        "'RJ': 36678.66,\n",
        "'MG': 29229.88,\n",
        "'ES': 27165.48,\n",
        "'Outros': 19849.53\n",
        "}\n",
        "\n",
        "# Calcula o faturamento total\n",
        "faturamento_total = sum(faturamento_por_estado.values())\n",
        "\n",
        "# Calcula o percentual de representação de cada estado\n",
        "percentual_por_estado = {estado: (faturamento / faturamento_total) * 100 for estado, faturamento in faturamento_por_estado.items()}\n",
        "\n",
        "# Exibe os resultados\n",
        "for estado, percentual in percentual_por_estado.items():\n",
        "  print(f\"{estado}: {percentual:.2f}%\")\n"
      ],
      "metadata": {
        "colab": {
          "base_uri": "https://localhost:8080/"
        },
        "id": "SHTFxEkU4tqQ",
        "outputId": "598c8bf9-82c9-45b3-a052-52cb79d31789"
      },
      "execution_count": 41,
      "outputs": [
        {
          "output_type": "stream",
          "name": "stdout",
          "text": [
            "SP: 37.53%\n",
            "RJ: 20.29%\n",
            "MG: 16.17%\n",
            "ES: 15.03%\n",
            "Outros: 10.98%\n"
          ]
        }
      ]
    },
    {
      "cell_type": "markdown",
      "source": [
        "05) Escreva um programa que inverta os caracteres de um string.\n",
        "\n",
        "IMPORTANTE:\n",
        "\n",
        "a) Essa string pode ser informada através de qualquer entrada de sua preferência ou pode ser previamente definida no código;\n",
        "b) Evite usar funções prontas, como, por exemplo, reverse;"
      ],
      "metadata": {
        "id": "weSbPDNA7WLb"
      }
    },
    {
      "cell_type": "code",
      "source": [
        "def inverter_string(s): # Inicializa uma string vazia para armazenar o resultado invertido\n",
        "  string_invertida = ''\n",
        "\n",
        "  for i in range(len(s) - 1, -1, -1):\n",
        "    string_invertida += s[i]\n",
        "  return string_invertida\n",
        "\n",
        "# String de exemplo (pode ser substituída por qualquer outra string)\n",
        "string_original = \"Natan\"\n",
        "string_invertida = inverter_string(string_original)\n",
        "\n",
        "print(f\"String original: {string_original}\")\n",
        "print(f\"String invertida: {string_invertida}\")"
      ],
      "metadata": {
        "colab": {
          "base_uri": "https://localhost:8080/"
        },
        "id": "I65WugxO5YJa",
        "outputId": "7a687360-4624-40b4-ae6b-0e22570db054"
      },
      "execution_count": 47,
      "outputs": [
        {
          "output_type": "stream",
          "name": "stdout",
          "text": [
            "String original: Natan\n",
            "String invertida: nataN\n"
          ]
        }
      ]
    }
  ]
}